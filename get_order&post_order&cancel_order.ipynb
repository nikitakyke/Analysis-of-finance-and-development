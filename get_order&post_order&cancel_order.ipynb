{
 "cells": [
  {
   "cell_type": "code",
   "execution_count": null,
   "id": "07a0b932",
   "metadata": {},
   "outputs": [],
   "source": [
    "import tinvest as ti"
   ]
  },
  {
   "cell_type": "code",
   "execution_count": null,
   "id": "97542ac6",
   "metadata": {},
   "outputs": [],
   "source": [
    "token = \"...\"\n",
    "a = ti.SyncClient(token)"
   ]
  },
  {
   "cell_type": "code",
   "execution_count": null,
   "id": "f389dbeb",
   "metadata": {},
   "outputs": [],
   "source": [
    "help(a)"
   ]
  },
  {
   "cell_type": "code",
   "execution_count": null,
   "id": "8ee19787",
   "metadata": {},
   "outputs": [],
   "source": [
    "a.get_accounts()"
   ]
  },
  {
   "cell_type": "code",
   "execution_count": null,
   "id": "dcf7b6dd",
   "metadata": {},
   "outputs": [],
   "source": [
    "f = a.get_market_orderbook(\"BBG004731354\",10)"
   ]
  },
  {
   "cell_type": "code",
   "execution_count": null,
   "id": "db8d89e9",
   "metadata": {},
   "outputs": [],
   "source": [
    "f.payload.asks[0]"
   ]
  },
  {
   "cell_type": "code",
   "execution_count": null,
   "id": "5162f9ab",
   "metadata": {},
   "outputs": [],
   "source": [
    "help(a.get_market_orderbook(\"BBG004731354\",10))"
   ]
  },
  {
   "cell_type": "code",
   "execution_count": null,
   "id": "43b1a771",
   "metadata": {},
   "outputs": [],
   "source": [
    "a.get_market_search_by_figi(\"BBG004731354\")"
   ]
  },
  {
   "cell_type": "code",
   "execution_count": null,
   "id": "de4a864d",
   "metadata": {},
   "outputs": [],
   "source": [
    "help(a.get_market_search_by_figi(\"BBG004731354\"))"
   ]
  },
  {
   "cell_type": "code",
   "execution_count": null,
   "id": "1a0d9a1f",
   "metadata": {},
   "outputs": [],
   "source": [
    "help(a.get_market_stocks())"
   ]
  },
  {
   "cell_type": "code",
   "execution_count": null,
   "id": "202c51df",
   "metadata": {},
   "outputs": [],
   "source": [
    "import datetime\n",
    "k = a.get_operations(datetime.datetime(2021,9,13,12,50), datetime.datetime(2021,9,13,13,55))"
   ]
  },
  {
   "cell_type": "code",
   "execution_count": null,
   "id": "6aee3f62",
   "metadata": {},
   "outputs": [],
   "source": [
    "b=k.payload.operations[5]"
   ]
  },
  {
   "cell_type": "code",
   "execution_count": null,
   "id": "8f0b53e8",
   "metadata": {},
   "outputs": [],
   "source": [
    "print(\"commission\", -float(b.commission.value), '\\n time', b.date,'\\n figi', b.figi,'\\n operation_type', b.operation_type,'\\n payment', -float(b.payment),'\\n price', float(b.price),'\\n quantity', int(b.quantity),'\\n price', float(b.price))"
   ]
  },
  {
   "cell_type": "code",
   "execution_count": null,
   "id": "456106ae",
   "metadata": {},
   "outputs": [],
   "source": [
    "k.payload.operations[7]"
   ]
  },
  {
   "cell_type": "code",
   "execution_count": null,
   "id": "ad1950bd",
   "metadata": {},
   "outputs": [],
   "source": [
    "help(a.get_orders())"
   ]
  },
  {
   "cell_type": "code",
   "execution_count": null,
   "id": "2904dc5f",
   "metadata": {},
   "outputs": [],
   "source": [
    "help(ti.schemas.Order)"
   ]
  },
  {
   "cell_type": "code",
   "execution_count": null,
   "id": "44bf7db9",
   "metadata": {},
   "outputs": [],
   "source": [
    "#a.get_orders([1,\"BBG004731354\",ti.schemas.OperationType.sell, \"56932424\",571])\n",
    "a.get_orders()"
   ]
  },
  {
   "cell_type": "code",
   "execution_count": null,
   "id": "af86e86e",
   "metadata": {},
   "outputs": [],
   "source": [
    "ti.schemas.OperationType.buy"
   ]
  },
  {
   "cell_type": "code",
   "execution_count": null,
   "id": "7ff932ee",
   "metadata": {},
   "outputs": [],
   "source": [
    "a.get_portfolio()"
   ]
  },
  {
   "cell_type": "code",
   "execution_count": null,
   "id": "445dc7d4",
   "metadata": {},
   "outputs": [],
   "source": [
    "a.post_orders_cancel('25941479755')"
   ]
  },
  {
   "cell_type": "code",
   "execution_count": null,
   "id": "20a70b14",
   "metadata": {},
   "outputs": [],
   "source": [
    "a.get_orders()"
   ]
  },
  {
   "cell_type": "code",
   "execution_count": null,
   "id": "33193ab2",
   "metadata": {},
   "outputs": [],
   "source": [
    "help(ti.schemas.Empty)"
   ]
  },
  {
   "cell_type": "code",
   "execution_count": null,
   "id": "75c34a54",
   "metadata": {},
   "outputs": [],
   "source": [
    "a.post_orders_limit_order(\"BBG004731354\",ti.schemas.LimitOrderRequest(lots=1, operation = ti.schemas.OperationType.sell, price= 592))"
   ]
  },
  {
   "cell_type": "code",
   "execution_count": null,
   "id": "82b915cd",
   "metadata": {},
   "outputs": [],
   "source": [
    "help(a.post_orders_limit_order)"
   ]
  },
  {
   "cell_type": "code",
   "execution_count": null,
   "id": "a650276e",
   "metadata": {},
   "outputs": [],
   "source": [
    "help(ti.schemas.LimitOrderRequest)"
   ]
  },
  {
   "cell_type": "code",
   "execution_count": null,
   "id": "d1d19546",
   "metadata": {},
   "outputs": [],
   "source": [
    "ti.schemas.LimitOrderRequest(lots=1, operation = ti.schemas.OperationType.sell, price= 592)"
   ]
  },
  {
   "cell_type": "code",
   "execution_count": null,
   "id": "a50fea3e",
   "metadata": {},
   "outputs": [],
   "source": [
    "a.get_orders()"
   ]
  },
  {
   "cell_type": "code",
   "execution_count": null,
   "id": "a24dcccf",
   "metadata": {},
   "outputs": [],
   "source": [
    "import time\n",
    "#mas = [a.get_orders().payload[i].order_id for i in range(len(a.get_orders().payload))]\n",
    "#a.post_orders_cancel(mas) - НЕ РАБОТАЕТ, ТОЛЬКО ПО ЧИСЛАМ, БЕЗ МАССИВА\n",
    "for i in range(len(a.get_orders().payload)-1,-1, -1):\n",
    "    num_order = a.get_orders().payload[i].order_id\n",
    "    a.post_orders_cancel(num_order) "
   ]
  },
  {
   "cell_type": "markdown",
   "id": "ec012568",
   "metadata": {},
   "source": [
    "Убрали все заявки"
   ]
  },
  {
   "cell_type": "code",
   "execution_count": null,
   "id": "f29797b5",
   "metadata": {},
   "outputs": [],
   "source": [
    "a.get_orders()"
   ]
  },
  {
   "cell_type": "code",
   "execution_count": null,
   "id": "7cadb3db",
   "metadata": {},
   "outputs": [],
   "source": [
    "len(a.get_orders().payload)"
   ]
  },
  {
   "cell_type": "code",
   "execution_count": null,
   "id": "d986b31a",
   "metadata": {},
   "outputs": [],
   "source": []
  }
 ],
 "metadata": {
  "kernelspec": {
   "display_name": "Python 3",
   "language": "python",
   "name": "python3"
  },
  "language_info": {
   "codemirror_mode": {
    "name": "ipython",
    "version": 3
   },
   "file_extension": ".py",
   "mimetype": "text/x-python",
   "name": "python",
   "nbconvert_exporter": "python",
   "pygments_lexer": "ipython3",
   "version": "3.8.8"
  }
 },
 "nbformat": 4,
 "nbformat_minor": 5
}
