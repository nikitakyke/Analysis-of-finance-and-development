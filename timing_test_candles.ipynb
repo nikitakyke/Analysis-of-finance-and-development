{
 "cells": [
  {
   "cell_type": "code",
   "execution_count": 1,
   "id": "c949ebfa",
   "metadata": {},
   "outputs": [],
   "source": [
    "import tinvest as ti\n",
    "import datetime as datetime\n",
    "import time\n",
    "import numpy as np\n",
    "token = \"...\" "
   ]
  },
  {
   "cell_type": "code",
   "execution_count": 10,
   "id": "88d539ab",
   "metadata": {},
   "outputs": [],
   "source": [
    "all_stock = ti.SyncClient(token).get_market_stocks().payload.instruments#все бумаги\n",
    "names_rus_companies = np.array(['Роснефть'])#названия наблюдаемых бумаг\n",
    "list_our_stock = [i for i in all_stock if i.name in names_rus_companies]\n",
    "length_list_our_stock = len(list_our_stock)"
   ]
  },
  {
   "cell_type": "code",
   "execution_count": null,
   "id": "b431499f",
   "metadata": {},
   "outputs": [],
   "source": [
    "for i in range(length_list_our_stock):\n",
    "    info_candles = ti.SyncClient(token).get_market_candles(all_rus_stock[i].figi, datetime.datetime(2021, 9, 20, 4), datetime.datetime.utcnow(),ti.schemas.CandleResolution.min5).payload.candles\n",
    "    length_candles = len(info_candles)\n",
    "    if length_candles>=2:\n",
    "        price_begin = info_candles[0].c\n",
    "        price_end = info_candles[length_candles-1].c\n",
    "        percent_change = round((price_end - price_begin)/price_begin*100, 1)\n",
    "        #print(all_stock[i].name, percent_change)\n",
    "        if abs(percent_change)>5:\n",
    "            print(all_rus_stock[i].name, percent_change)\n",
    "    time.sleep(2.5)"
   ]
  },
  {
   "cell_type": "code",
   "execution_count": 14,
   "id": "a377ad64",
   "metadata": {},
   "outputs": [],
   "source": [
    "info_candles = ti.SyncClient(token).get_market_candles(list_our_stock[0].figi, datetime.datetime(2021, 9, 20, 8), datetime.datetime(2021,9, 20, 9),ti.schemas.CandleResolution.min5).payload.candles"
   ]
  },
  {
   "cell_type": "code",
   "execution_count": 16,
   "id": "23ccea66",
   "metadata": {},
   "outputs": [
    {
     "data": {
      "text/plain": [
       "[Candle(c=Decimal('558.45'), figi='BBG004731354', h=Decimal('560.0'), interval=<CandleResolution.min5: '5min'>, l=Decimal('558.05'), o=Decimal('559.95'), time=datetime.datetime(2021, 9, 20, 8, 0, tzinfo=datetime.timezone.utc), v=77669),\n",
       " Candle(c=Decimal('557.4'), figi='BBG004731354', h=Decimal('558.45'), interval=<CandleResolution.min5: '5min'>, l=Decimal('557.05'), o=Decimal('558.45'), time=datetime.datetime(2021, 9, 20, 8, 5, tzinfo=datetime.timezone.utc), v=104289),\n",
       " Candle(c=Decimal('557.6'), figi='BBG004731354', h=Decimal('557.6'), interval=<CandleResolution.min5: '5min'>, l=Decimal('557.05'), o=Decimal('557.45'), time=datetime.datetime(2021, 9, 20, 8, 10, tzinfo=datetime.timezone.utc), v=43084),\n",
       " Candle(c=Decimal('557.95'), figi='BBG004731354', h=Decimal('558'), interval=<CandleResolution.min5: '5min'>, l=Decimal('556.95'), o=Decimal('557.5'), time=datetime.datetime(2021, 9, 20, 8, 15, tzinfo=datetime.timezone.utc), v=29319),\n",
       " Candle(c=Decimal('556.55'), figi='BBG004731354', h=Decimal('557.95'), interval=<CandleResolution.min5: '5min'>, l=Decimal('555.3'), o=Decimal('557.9'), time=datetime.datetime(2021, 9, 20, 8, 20, tzinfo=datetime.timezone.utc), v=243564),\n",
       " Candle(c=Decimal('556.35'), figi='BBG004731354', h=Decimal('557'), interval=<CandleResolution.min5: '5min'>, l=Decimal('555.95'), o=Decimal('556.35'), time=datetime.datetime(2021, 9, 20, 8, 25, tzinfo=datetime.timezone.utc), v=63297),\n",
       " Candle(c=Decimal('556.9'), figi='BBG004731354', h=Decimal('557'), interval=<CandleResolution.min5: '5min'>, l=Decimal('556'), o=Decimal('556.6'), time=datetime.datetime(2021, 9, 20, 8, 30, tzinfo=datetime.timezone.utc), v=52405),\n",
       " Candle(c=Decimal('556.45'), figi='BBG004731354', h=Decimal('557'), interval=<CandleResolution.min5: '5min'>, l=Decimal('556.45'), o=Decimal('556.9'), time=datetime.datetime(2021, 9, 20, 8, 35, tzinfo=datetime.timezone.utc), v=25657),\n",
       " Candle(c=Decimal('556.75'), figi='BBG004731354', h=Decimal('557'), interval=<CandleResolution.min5: '5min'>, l=Decimal('556.35'), o=Decimal('556.7'), time=datetime.datetime(2021, 9, 20, 8, 40, tzinfo=datetime.timezone.utc), v=68701),\n",
       " Candle(c=Decimal('556.25'), figi='BBG004731354', h=Decimal('557'), interval=<CandleResolution.min5: '5min'>, l=Decimal('556.25'), o=Decimal('556.85'), time=datetime.datetime(2021, 9, 20, 8, 45, tzinfo=datetime.timezone.utc), v=18926),\n",
       " Candle(c=Decimal('556.45'), figi='BBG004731354', h=Decimal('557.05'), interval=<CandleResolution.min5: '5min'>, l=Decimal('555.75'), o=Decimal('556.3'), time=datetime.datetime(2021, 9, 20, 8, 50, tzinfo=datetime.timezone.utc), v=83346),\n",
       " Candle(c=Decimal('556'), figi='BBG004731354', h=Decimal('557'), interval=<CandleResolution.min5: '5min'>, l=Decimal('555.45'), o=Decimal('556.45'), time=datetime.datetime(2021, 9, 20, 8, 55, tzinfo=datetime.timezone.utc), v=98557)]"
      ]
     },
     "execution_count": 16,
     "metadata": {},
     "output_type": "execute_result"
    }
   ],
   "source": [
    "info_candles"
   ]
  },
  {
   "cell_type": "markdown",
   "id": "40b65a46",
   "metadata": {},
   "source": [
    "ТЕСТ - Покупка в одно время и продажа через час. Результат - нет корреляций"
   ]
  },
  {
   "cell_type": "code",
   "execution_count": 29,
   "id": "7b859902",
   "metadata": {},
   "outputs": [
    {
     "name": "stdout",
     "output_type": "stream",
     "text": [
      "100000.00 184\n",
      "99613.00 180\n",
      "99595.10 179\n",
      "99532.10 180\n",
      "99459.70 181\n",
      "99540.25 179\n",
      "98780.05 181\n",
      "98725.75 181\n",
      "98567.35 176\n",
      "98250.55 176\n",
      "98933.90 173\n",
      "99544.50 172\n",
      "99440.10 174\n"
     ]
    }
   ],
   "source": [
    "Summ_begin = 100_000\n",
    "v = 0\n",
    "for i in range(1, 30):\n",
    "    info_candles = ti.SyncClient(token).get_market_candles(list_our_stock[0].figi, datetime.datetime(2021, 9, i, 17), datetime.datetime(2021, 9, i, 20),ti.schemas.CandleResolution.min5).payload.candles\n",
    "    length_candles = len(info_candles)\n",
    "    if length_candles>=2:\n",
    "        price_begin = info_candles[0].c\n",
    "        price_end = info_candles[length_candles-1].c\n",
    "        value_stock = int(Summ_begin/(price_begin*list_our_stock[0].lot))*list_our_stock[0].lot\n",
    "        Summ_begin = Summ_begin - value_stock*price_begin\n",
    "        Summ_begin = Summ_begin + value_stock*price_end\n",
    "        print(Summ_begin, value_stock)\n",
    "        "
   ]
  },
  {
   "cell_type": "code",
   "execution_count": 17,
   "id": "bc7501fe",
   "metadata": {},
   "outputs": [
    {
     "data": {
      "text/plain": [
       "1"
      ]
     },
     "execution_count": 17,
     "metadata": {},
     "output_type": "execute_result"
    }
   ],
   "source": [
    "list_our_stock[0].lot"
   ]
  },
  {
   "cell_type": "markdown",
   "id": "d22d4572",
   "metadata": {},
   "source": [
    "ТЕСТ тот же - покупка вечером с продажей утром"
   ]
  },
  {
   "cell_type": "code",
   "execution_count": 31,
   "id": "e0019fc0",
   "metadata": {},
   "outputs": [
    {
     "name": "stdout",
     "output_type": "stream",
     "text": [
      "100887.55 183\n",
      "101015.65 183\n",
      "100356.85 183\n",
      "99915.25 184\n",
      "99660.45 182\n",
      "98901.00 183\n",
      "99648.00 180\n",
      "98829.60 176\n",
      "98435.85 175\n",
      "97423.80 173\n",
      "97800.05 175\n",
      "97108.05 173\n",
      "96681.75 174\n",
      "94973.70 177\n",
      "94336.50 177\n",
      "95159.00 175\n",
      "93913.40 173\n",
      "93062.00 172\n",
      "92854.40 173\n",
      "92664.10 173\n",
      "92638.45 171\n"
     ]
    }
   ],
   "source": [
    "Summ_begin = 100_000\n",
    "v = 0\n",
    "for i in range(1, 30):\n",
    "    info_candles = ti.SyncClient(token).get_market_candles(list_our_stock[0].figi, datetime.datetime(2021, 8, i, 21), datetime.datetime(2021, 8, i+1, 9),ti.schemas.CandleResolution.min5).payload.candles\n",
    "    length_candles = len(info_candles)\n",
    "    if length_candles>=2:\n",
    "        price_begin = info_candles[0].c\n",
    "        price_end = info_candles[length_candles-1].c\n",
    "        value_stock = int(Summ_begin/(price_begin*list_our_stock[0].lot))*list_our_stock[0].lot\n",
    "        Summ_begin = Summ_begin - value_stock*price_begin\n",
    "        Summ_begin = Summ_begin + value_stock*price_end\n",
    "        print(Summ_begin, value_stock)"
   ]
  },
  {
   "cell_type": "code",
   "execution_count": null,
   "id": "62985375",
   "metadata": {},
   "outputs": [],
   "source": []
  }
 ],
 "metadata": {
  "kernelspec": {
   "display_name": "Python 3",
   "language": "python",
   "name": "python3"
  },
  "language_info": {
   "codemirror_mode": {
    "name": "ipython",
    "version": 3
   },
   "file_extension": ".py",
   "mimetype": "text/x-python",
   "name": "python",
   "nbconvert_exporter": "python",
   "pygments_lexer": "ipython3",
   "version": "3.8.8"
  }
 },
 "nbformat": 4,
 "nbformat_minor": 5
}
