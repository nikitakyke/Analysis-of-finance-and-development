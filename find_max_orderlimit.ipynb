{
 "cells": [
  {
   "cell_type": "code",
   "execution_count": null,
   "id": "c0d3853d",
   "metadata": {},
   "outputs": [],
   "source": [
    "import tinvest as ti"
   ]
  },
  {
   "cell_type": "code",
   "execution_count": null,
   "id": "c47b101a",
   "metadata": {},
   "outputs": [],
   "source": [
    "token = \"...\""
   ]
  },
  {
   "cell_type": "code",
   "execution_count": null,
   "id": "547e83b3",
   "metadata": {},
   "outputs": [],
   "source": [
    "help(ti)"
   ]
  },
  {
   "cell_type": "code",
   "execution_count": null,
   "id": "56c8940d",
   "metadata": {},
   "outputs": [],
   "source": [
    "a = ti.SyncClient(token)"
   ]
  },
  {
   "cell_type": "code",
   "execution_count": null,
   "id": "5e892431",
   "metadata": {},
   "outputs": [],
   "source": [
    "r=a.get_portfolio()"
   ]
  },
  {
   "cell_type": "code",
   "execution_count": null,
   "id": "69fcaa82",
   "metadata": {},
   "outputs": [],
   "source": [
    "print(r)"
   ]
  },
  {
   "cell_type": "code",
   "execution_count": null,
   "id": "ae86d8be",
   "metadata": {},
   "outputs": [],
   "source": [
    "print(r.payload.positions[0].average_position_price.value)"
   ]
  },
  {
   "cell_type": "code",
   "execution_count": null,
   "id": "fdb7e51c",
   "metadata": {},
   "outputs": [],
   "source": [
    "print(r.payload.positions[0].balance)"
   ]
  },
  {
   "cell_type": "code",
   "execution_count": null,
   "id": "fce7313d",
   "metadata": {},
   "outputs": [],
   "source": [
    "print(r.payload.positions[0].expected_yield.value)"
   ]
  },
  {
   "cell_type": "code",
   "execution_count": null,
   "id": "261d23e5",
   "metadata": {},
   "outputs": [],
   "source": [
    "print(r.payload.positions[0].figi)"
   ]
  },
  {
   "cell_type": "code",
   "execution_count": null,
   "id": "b16de6d9",
   "metadata": {},
   "outputs": [],
   "source": [
    "print(r.payload.positions[0].lots)\n",
    "print(r.payload.positions[0].ticker)"
   ]
  },
  {
   "cell_type": "code",
   "execution_count": null,
   "id": "a276bab5",
   "metadata": {},
   "outputs": [],
   "source": [
    "print(r.payload.positions[1].name)\n",
    "print(r.payload.positions[1].lots)\n",
    "print(r.payload.positions[1].balance)\n",
    "print(r.payload.positions[1].average_position_price.value)\n",
    "print(r.payload.positions[1].expected_yield.value)\n",
    "print(r.payload.positions[1].figi)"
   ]
  },
  {
   "cell_type": "code",
   "execution_count": null,
   "id": "7d92bf2e",
   "metadata": {},
   "outputs": [],
   "source": [
    "import time"
   ]
  },
  {
   "cell_type": "code",
   "execution_count": null,
   "id": "f9c37643",
   "metadata": {},
   "outputs": [],
   "source": [
    "for i in range(5):\n",
    "    a1= ti.SyncClient(token)\n",
    "    r1=a1.get_portfolio()\n",
    "    print(r1.payload.positions[0].expected_yield.value)\n",
    "    time.sleep(10)"
   ]
  },
  {
   "cell_type": "code",
   "execution_count": null,
   "id": "6b852da8",
   "metadata": {},
   "outputs": [],
   "source": [
    "a2= ti.AsyncClient(token)\n",
    "print(a2)"
   ]
  },
  {
   "cell_type": "code",
   "execution_count": null,
   "id": "376a190a",
   "metadata": {},
   "outputs": [],
   "source": [
    "a3 = ti.schemas.Orderbook\n",
    "a3"
   ]
  },
  {
   "cell_type": "code",
   "execution_count": null,
   "id": "e63591c9",
   "metadata": {},
   "outputs": [],
   "source": [
    "#print(a3(\"BBG0013HGFT4\")) не работает"
   ]
  },
  {
   "cell_type": "code",
   "execution_count": null,
   "id": "bf58c97c",
   "metadata": {},
   "outputs": [],
   "source": [
    "f = a.get_market_orderbook(\"BBG004731354\", 2)\n",
    "print(f)\n",
    "f2 = a.get_market_orderbook(\"BBG004RVFCY3\", 2)\n",
    "print(f2)"
   ]
  },
  {
   "cell_type": "code",
   "execution_count": null,
   "id": "4dac009c",
   "metadata": {},
   "outputs": [],
   "source": [
    "int(f.payload.asks[0].price)"
   ]
  },
  {
   "cell_type": "code",
   "execution_count": null,
   "id": "9a2c5c11",
   "metadata": {},
   "outputs": [],
   "source": [
    "import pandas as pd\n",
    "pd.DataFrame([[1,2, 4, 5], [3, 5, 3, 5]])"
   ]
  },
  {
   "cell_type": "code",
   "execution_count": null,
   "id": "5b5d84bc",
   "metadata": {},
   "outputs": [],
   "source": [
    "f1=a.get_market_orderbook(\"BBG004731354\",150)\n",
    "print(len(f1.payload.asks))\n",
    "print(f1.payload.asks[0])"
   ]
  },
  {
   "cell_type": "code",
   "execution_count": null,
   "id": "6fa9397d",
   "metadata": {},
   "outputs": [],
   "source": [
    "f1=a.get_market_orderbook(\"BBG004731354\",100)\n",
    "print(len(f1.payload.bids))\n",
    "print(f1.payload.bids[59])"
   ]
  },
  {
   "cell_type": "code",
   "execution_count": null,
   "id": "c6c2fe25",
   "metadata": {},
   "outputs": [],
   "source": [
    "max_bids=0;max_asks=0\n",
    "summ_bids = 0;summ_asks= 0\n",
    "pr_bids = 0; pr_asks = 0\n",
    "for i in range(len(f1.payload.bids)):\n",
    "    newb = int(f1.payload.bids[i].quantity)\n",
    "    newas = int(f1.payload.asks[i].quantity)\n",
    "    summ_bids+=newb\n",
    "    summ_asks+=newas\n",
    "    if newb>max_bids:\n",
    "        max_bids = newb\n",
    "        pr_bids = int(f1.payload.bids[i].price)\n",
    "    if newas>max_asks:\n",
    "        max_asks = newas\n",
    "        pr_asks = int(f1.payload.asks[i].price)\n",
    "print('max bids', max_bids,'price bids',pr_bids,'summ bids', summ_bids, '\\nmax asks', max_asks,'price bids',pr_asks, 'summ asks', summ_asks)"
   ]
  },
  {
   "cell_type": "markdown",
   "id": "010401e9",
   "metadata": {},
   "source": [
    "Алгоритм поиска максимального элемента, суммы в стаканеб причем в стакане больше 20 заявок"
   ]
  },
  {
   "cell_type": "code",
   "execution_count": null,
   "id": "07fb3a2b",
   "metadata": {},
   "outputs": [],
   "source": [
    "h = a.get_market_search_by_figi(\"BBG004731354\")\n",
    "print(h)\n",
    "print('\\nfigi',h.payload.figi, '\\nname', h.payload.name,'\\nticker', h.payload.ticker,'\\nlot', h.payload.lot,'\\nmin_step', int(h.payload.min_price_increment))"
   ]
  },
  {
   "cell_type": "code",
   "execution_count": null,
   "id": "46931261",
   "metadata": {},
   "outputs": [],
   "source": [
    "h = a.get_market_search_by_ticker(\"ROSN\")\n",
    "print(h)"
   ]
  },
  {
   "cell_type": "code",
   "execution_count": null,
   "id": "edb9cbb7",
   "metadata": {},
   "outputs": [],
   "source": [
    "h=a.get_market_stocks()\n",
    "#print(h)\n",
    "print(len(h.payload.instruments))"
   ]
  },
  {
   "cell_type": "code",
   "execution_count": null,
   "id": "ead2c94a",
   "metadata": {},
   "outputs": [],
   "source": [
    "#h=a.get_operations(\"13.09.2021\",\"14.09.2021\") не работает\n",
    "#print(h)"
   ]
  },
  {
   "cell_type": "code",
   "execution_count": null,
   "id": "04c5db1d",
   "metadata": {},
   "outputs": [],
   "source": [
    "h=a.get_orders()\n",
    "print(h)"
   ]
  },
  {
   "cell_type": "code",
   "execution_count": null,
   "id": "63a5b86a",
   "metadata": {},
   "outputs": [],
   "source": [
    "h=a.get_portfolio_currencies()\n",
    "print(h)"
   ]
  },
  {
   "cell_type": "code",
   "execution_count": null,
   "id": "400475b0",
   "metadata": {},
   "outputs": [],
   "source": [
    "#h=a.post_orders_cancel()\n",
    "#print(h)"
   ]
  },
  {
   "cell_type": "code",
   "execution_count": null,
   "id": "6bf867ca",
   "metadata": {},
   "outputs": [],
   "source": [
    "#h=a.post_orders_limit_order(\"BBG004731354\",???)\n",
    "#print(h)"
   ]
  },
  {
   "cell_type": "code",
   "execution_count": null,
   "id": "c9f7b615",
   "metadata": {},
   "outputs": [],
   "source": [
    "h=a.get_market_currencies()\n",
    "print(h)"
   ]
  },
  {
   "cell_type": "code",
   "execution_count": null,
   "id": "2c929e6b",
   "metadata": {},
   "outputs": [],
   "source": [
    "h=a.get_market_bonds()\n",
    "print(h)"
   ]
  },
  {
   "cell_type": "code",
   "execution_count": null,
   "id": "b026e73d",
   "metadata": {},
   "outputs": [],
   "source": [
    "print(len(h.payload.instruments))\n",
    "print(h.payload.total)"
   ]
  },
  {
   "cell_type": "code",
   "execution_count": null,
   "id": "b8947f64",
   "metadata": {},
   "outputs": [],
   "source": []
  }
 ],
 "metadata": {
  "kernelspec": {
   "display_name": "Python 3",
   "language": "python",
   "name": "python3"
  },
  "language_info": {
   "codemirror_mode": {
    "name": "ipython",
    "version": 3
   },
   "file_extension": ".py",
   "mimetype": "text/x-python",
   "name": "python",
   "nbconvert_exporter": "python",
   "pygments_lexer": "ipython3",
   "version": "3.8.8"
  }
 },
 "nbformat": 4,
 "nbformat_minor": 5
}
