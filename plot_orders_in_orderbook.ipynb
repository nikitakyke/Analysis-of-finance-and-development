{
 "cells": [
  {
   "cell_type": "code",
   "execution_count": 1,
   "id": "a06a2a62",
   "metadata": {},
   "outputs": [],
   "source": [
    "import tinvest as ti\n",
    "import datetime\n",
    "import numpy as np\n",
    "token = \"...\"\n",
    "a = ti.SyncClient(token)"
   ]
  },
  {
   "cell_type": "code",
   "execution_count": 2,
   "id": "4deb5800",
   "metadata": {},
   "outputs": [],
   "source": [
    "#!pip install tinvest"
   ]
  },
  {
   "cell_type": "code",
   "execution_count": 3,
   "id": "c041e934",
   "metadata": {},
   "outputs": [],
   "source": [
    "b = ti.AsyncClient(token)"
   ]
  },
  {
   "cell_type": "code",
   "execution_count": 9,
   "id": "03b07f90",
   "metadata": {},
   "outputs": [
    {
     "ename": "UnexpectedError",
     "evalue": "500 ",
     "output_type": "error",
     "traceback": [
      "\u001b[1;31m---------------------------------------------------------------------------\u001b[0m",
      "\u001b[1;31mUnexpectedError\u001b[0m                           Traceback (most recent call last)",
      "\u001b[1;32m<ipython-input-9-4ec6d9c3c7a7>\u001b[0m in \u001b[0;36m<module>\u001b[1;34m\u001b[0m\n\u001b[1;32m----> 1\u001b[1;33m \u001b[0mc\u001b[0m \u001b[1;33m=\u001b[0m \u001b[0ma\u001b[0m\u001b[1;33m.\u001b[0m\u001b[0mget_market_search_by_ticker\u001b[0m\u001b[1;33m(\u001b[0m\u001b[1;34m\"MAGN\"\u001b[0m\u001b[1;33m)\u001b[0m\u001b[1;33m\u001b[0m\u001b[1;33m\u001b[0m\u001b[0m\n\u001b[0m",
      "\u001b[1;32m~\\anaconda3\\lib\\site-packages\\tinvest\\clients.py\u001b[0m in \u001b[0;36mget_market_search_by_ticker\u001b[1;34m(self, ticker)\u001b[0m\n\u001b[0;32m    706\u001b[0m         \u001b[0mticker\u001b[0m\u001b[1;33m:\u001b[0m \u001b[0mstr\u001b[0m\u001b[1;33m,\u001b[0m\u001b[1;33m\u001b[0m\u001b[1;33m\u001b[0m\u001b[0m\n\u001b[0;32m    707\u001b[0m     ) -> MarketInstrumentListResponse:\n\u001b[1;32m--> 708\u001b[1;33m         return market_search_by_ticker_get(\n\u001b[0m\u001b[0;32m    709\u001b[0m             \u001b[0mself\u001b[0m\u001b[1;33m.\u001b[0m\u001b[0m_request\u001b[0m\u001b[1;33m,\u001b[0m\u001b[1;33m\u001b[0m\u001b[1;33m\u001b[0m\u001b[0m\n\u001b[0;32m    710\u001b[0m             \u001b[0mticker\u001b[0m\u001b[1;33m,\u001b[0m\u001b[1;33m\u001b[0m\u001b[1;33m\u001b[0m\u001b[0m\n",
      "\u001b[1;32m~\\anaconda3\\lib\\site-packages\\tinvest\\apis.py\u001b[0m in \u001b[0;36mmarket_search_by_ticker_get\u001b[1;34m(request, ticker)\u001b[0m\n\u001b[0;32m    359\u001b[0m     \u001b[0mparams\u001b[0m \u001b[1;33m=\u001b[0m \u001b[0mkwargs\u001b[0m\u001b[1;33m[\u001b[0m\u001b[1;34m'params'\u001b[0m\u001b[1;33m]\u001b[0m\u001b[1;33m\u001b[0m\u001b[1;33m\u001b[0m\u001b[0m\n\u001b[0;32m    360\u001b[0m     \u001b[0mparams\u001b[0m\u001b[1;33m.\u001b[0m\u001b[0msetdefault\u001b[0m\u001b[1;33m(\u001b[0m\u001b[1;34m'ticker'\u001b[0m\u001b[1;33m,\u001b[0m \u001b[0mticker\u001b[0m\u001b[1;33m)\u001b[0m\u001b[1;33m\u001b[0m\u001b[1;33m\u001b[0m\u001b[0m\n\u001b[1;32m--> 361\u001b[1;33m     return request(\n\u001b[0m\u001b[0;32m    362\u001b[0m         \u001b[1;34m'GET'\u001b[0m\u001b[1;33m,\u001b[0m\u001b[1;33m\u001b[0m\u001b[1;33m\u001b[0m\u001b[0m\n\u001b[0;32m    363\u001b[0m         \u001b[1;34m'/market/search/by-ticker'\u001b[0m\u001b[1;33m,\u001b[0m\u001b[1;33m\u001b[0m\u001b[1;33m\u001b[0m\u001b[0m\n",
      "\u001b[1;32m~\\anaconda3\\lib\\site-packages\\tinvest\\clients.py\u001b[0m in \u001b[0;36m_request\u001b[1;34m(self, method, path, response_model, **kwargs)\u001b[0m\n\u001b[0;32m    535\u001b[0m             \u001b[1;32mraise\u001b[0m \u001b[0mTooManyRequestsError\u001b[0m\u001b[1;33m\u001b[0m\u001b[1;33m\u001b[0m\u001b[0m\n\u001b[0;32m    536\u001b[0m \u001b[1;33m\u001b[0m\u001b[0m\n\u001b[1;32m--> 537\u001b[1;33m         \u001b[1;32mraise\u001b[0m \u001b[0mUnexpectedError\u001b[0m\u001b[1;33m(\u001b[0m\u001b[0mresponse\u001b[0m\u001b[1;33m.\u001b[0m\u001b[0mstatus_code\u001b[0m\u001b[1;33m,\u001b[0m \u001b[0mresponse\u001b[0m\u001b[1;33m.\u001b[0m\u001b[0mtext\u001b[0m\u001b[1;33m)\u001b[0m\u001b[1;33m\u001b[0m\u001b[1;33m\u001b[0m\u001b[0m\n\u001b[0m\u001b[0;32m    538\u001b[0m \u001b[1;33m\u001b[0m\u001b[0m\n\u001b[0;32m    539\u001b[0m     def register_sandbox_account(\n",
      "\u001b[1;31mUnexpectedError\u001b[0m: 500 "
     ]
    }
   ],
   "source": [
    "c = a.get_market_search_by_ticker(\"MAGN\")"
   ]
  },
  {
   "cell_type": "code",
   "execution_count": null,
   "id": "a92c6fae",
   "metadata": {},
   "outputs": [],
   "source": [
    "c"
   ]
  },
  {
   "cell_type": "code",
   "execution_count": 5,
   "id": "b63d988d",
   "metadata": {},
   "outputs": [],
   "source": [
    "a = ti.SyncClient(token)"
   ]
  },
  {
   "cell_type": "code",
   "execution_count": 6,
   "id": "b9c130f3",
   "metadata": {},
   "outputs": [
    {
     "ename": "UnexpectedError",
     "evalue": "500 ",
     "output_type": "error",
     "traceback": [
      "\u001b[1;31m---------------------------------------------------------------------------\u001b[0m",
      "\u001b[1;31mUnexpectedError\u001b[0m                           Traceback (most recent call last)",
      "\u001b[1;32m<ipython-input-6-07c66b540362>\u001b[0m in \u001b[0;36m<module>\u001b[1;34m\u001b[0m\n\u001b[1;32m----> 1\u001b[1;33m \u001b[0ma\u001b[0m\u001b[1;33m.\u001b[0m\u001b[0mget_market_bonds\u001b[0m\u001b[1;33m(\u001b[0m\u001b[1;33m)\u001b[0m\u001b[1;33m\u001b[0m\u001b[1;33m\u001b[0m\u001b[0m\n\u001b[0m",
      "\u001b[1;32m~\\anaconda3\\lib\\site-packages\\tinvest\\clients.py\u001b[0m in \u001b[0;36mget_market_bonds\u001b[1;34m(self)\u001b[0m\n\u001b[0;32m    653\u001b[0m         \u001b[0mself\u001b[0m\u001b[1;33m,\u001b[0m\u001b[1;33m\u001b[0m\u001b[1;33m\u001b[0m\u001b[0m\n\u001b[0;32m    654\u001b[0m     ) -> MarketInstrumentListResponse:\n\u001b[1;32m--> 655\u001b[1;33m         return market_bonds_get(\n\u001b[0m\u001b[0;32m    656\u001b[0m             \u001b[0mself\u001b[0m\u001b[1;33m.\u001b[0m\u001b[0m_request\u001b[0m\u001b[1;33m,\u001b[0m\u001b[1;33m\u001b[0m\u001b[1;33m\u001b[0m\u001b[0m\n\u001b[0;32m    657\u001b[0m         )\n",
      "\u001b[1;32m~\\anaconda3\\lib\\site-packages\\tinvest\\apis.py\u001b[0m in \u001b[0;36mmarket_bonds_get\u001b[1;34m(request)\u001b[0m\n\u001b[0;32m    262\u001b[0m     \u001b[1;34m\"\"\"GET /market/bonds\"\"\"\u001b[0m\u001b[1;33m\u001b[0m\u001b[1;33m\u001b[0m\u001b[0m\n\u001b[0;32m    263\u001b[0m     \u001b[0mkwargs\u001b[0m\u001b[1;33m:\u001b[0m \u001b[0mAny\u001b[0m \u001b[1;33m=\u001b[0m \u001b[1;33m{\u001b[0m\u001b[1;33m}\u001b[0m\u001b[1;33m\u001b[0m\u001b[1;33m\u001b[0m\u001b[0m\n\u001b[1;32m--> 264\u001b[1;33m     return request(\n\u001b[0m\u001b[0;32m    265\u001b[0m         \u001b[1;34m'GET'\u001b[0m\u001b[1;33m,\u001b[0m\u001b[1;33m\u001b[0m\u001b[1;33m\u001b[0m\u001b[0m\n\u001b[0;32m    266\u001b[0m         \u001b[1;34m'/market/bonds'\u001b[0m\u001b[1;33m,\u001b[0m\u001b[1;33m\u001b[0m\u001b[1;33m\u001b[0m\u001b[0m\n",
      "\u001b[1;32m~\\anaconda3\\lib\\site-packages\\tinvest\\clients.py\u001b[0m in \u001b[0;36m_request\u001b[1;34m(self, method, path, response_model, **kwargs)\u001b[0m\n\u001b[0;32m    535\u001b[0m             \u001b[1;32mraise\u001b[0m \u001b[0mTooManyRequestsError\u001b[0m\u001b[1;33m\u001b[0m\u001b[1;33m\u001b[0m\u001b[0m\n\u001b[0;32m    536\u001b[0m \u001b[1;33m\u001b[0m\u001b[0m\n\u001b[1;32m--> 537\u001b[1;33m         \u001b[1;32mraise\u001b[0m \u001b[0mUnexpectedError\u001b[0m\u001b[1;33m(\u001b[0m\u001b[0mresponse\u001b[0m\u001b[1;33m.\u001b[0m\u001b[0mstatus_code\u001b[0m\u001b[1;33m,\u001b[0m \u001b[0mresponse\u001b[0m\u001b[1;33m.\u001b[0m\u001b[0mtext\u001b[0m\u001b[1;33m)\u001b[0m\u001b[1;33m\u001b[0m\u001b[1;33m\u001b[0m\u001b[0m\n\u001b[0m\u001b[0;32m    538\u001b[0m \u001b[1;33m\u001b[0m\u001b[0m\n\u001b[0;32m    539\u001b[0m     def register_sandbox_account(\n",
      "\u001b[1;31mUnexpectedError\u001b[0m: 500 "
     ]
    }
   ],
   "source": [
    "a.get_market_bonds()"
   ]
  },
  {
   "cell_type": "code",
   "execution_count": 52,
   "id": "f587dac3",
   "metadata": {},
   "outputs": [
    {
     "data": {
      "text/plain": [
       "PortfolioCurrenciesResponse(payload=Currencies(currencies=[CurrencyPosition(balance=Decimal('0'), blocked=None, currency=<Currency.eur: 'EUR'>), CurrencyPosition(balance=Decimal('0'), blocked=None, currency=<Currency.cny: 'CNY'>), CurrencyPosition(balance=Decimal('0'), blocked=None, currency=<Currency.chf: 'CHF'>), CurrencyPosition(balance=Decimal('172.63'), blocked=Decimal('0'), currency=<Currency.rub: 'RUB'>), CurrencyPosition(balance=Decimal('0'), blocked=None, currency=<Currency.gbp: 'GBP'>), CurrencyPosition(balance=Decimal('0'), blocked=None, currency=<Currency.try_: 'TRY'>), CurrencyPosition(balance=Decimal('0.07'), blocked=None, currency=<Currency.usd: 'USD'>), CurrencyPosition(balance=Decimal('0'), blocked=None, currency=<Currency.jpy: 'JPY'>), CurrencyPosition(balance=Decimal('0'), blocked=None, currency=<Currency.hkd: 'HKD'>)]), status='Ok', tracking_id='d8f0c787c7016e6f')"
      ]
     },
     "execution_count": 52,
     "metadata": {},
     "output_type": "execute_result"
    }
   ],
   "source": [
    "a.get_portfolio_currencies()"
   ]
  },
  {
   "cell_type": "code",
   "execution_count": 4,
   "id": "528688b0",
   "metadata": {},
   "outputs": [
    {
     "name": "stdout",
     "output_type": "stream",
     "text": [
      "50\n",
      "price=Decimal('475.85') quantity=82\n"
     ]
    }
   ],
   "source": [
    "import matplotlib.pyplot as plt\n",
    "import time\n",
    "f1=a.get_market_orderbook(\"BBG004731354\",300)\n",
    "print(len(f1.payload.bids))\n",
    "print(f1.payload.bids[3])"
   ]
  },
  {
   "cell_type": "code",
   "execution_count": 55,
   "id": "ba2c3db9",
   "metadata": {},
   "outputs": [
    {
     "name": "stdout",
     "output_type": "stream",
     "text": [
      "max bids- 4927 ||| price bids 457 ||| summ bids- 26511 \n",
      "max asks- 6841 ||| price bids- 461 ||| summ asks- 44398\n",
      "max bids- 4927 ||| price bids 457 ||| summ bids- 26608 \n",
      "max asks- 6841 ||| price bids- 461 ||| summ asks- 44461\n",
      "max bids- 4927 ||| price bids 457 ||| summ bids- 26512 \n",
      "max asks- 6841 ||| price bids- 461 ||| summ asks- 44573\n",
      "max bids- 4927 ||| price bids 457 ||| summ bids- 26573 \n",
      "max asks- 6841 ||| price bids- 461 ||| summ asks- 44568\n",
      "max bids- 4927 ||| price bids 457 ||| summ bids- 26745 \n",
      "max asks- 8576 ||| price bids- 461 ||| summ asks- 44570\n"
     ]
    }
   ],
   "source": [
    "for j in range(5):\n",
    "    f1=a.get_market_orderbook(\"BBG004731354\",300)\n",
    "    max_bids=0;max_asks=0\n",
    "    summ_bids = 0;summ_asks= 0\n",
    "    pr_bids = 0; pr_asks = 0\n",
    "    for i in range(len(f1.payload.bids)):\n",
    "        newb = int(f1.payload.bids[i].quantity)\n",
    "        newas = int(f1.payload.asks[i].quantity)\n",
    "        summ_bids+=newb\n",
    "        summ_asks+=newas\n",
    "        if newb>max_bids:\n",
    "            max_bids = newb\n",
    "            pr_bids = int(f1.payload.bids[i].price)\n",
    "        if newas>max_asks:\n",
    "            max_asks = newas\n",
    "            pr_asks = int(f1.payload.asks[i].price)\n",
    "    print('max bids-', max_bids,'||| price bids',pr_bids,'||| summ bids-', summ_bids, '\\nmax asks-', max_asks,'||| price bids-',pr_asks, '||| summ asks-', summ_asks)\n",
    "    time.sleep(10)"
   ]
  },
  {
   "cell_type": "code",
   "execution_count": 56,
   "id": "72de5de3",
   "metadata": {},
   "outputs": [
    {
     "data": {
      "text/plain": [
       "50"
      ]
     },
     "execution_count": 56,
     "metadata": {},
     "output_type": "execute_result"
    }
   ],
   "source": [
    "len(f1.payload.bids)"
   ]
  },
  {
   "cell_type": "code",
   "execution_count": 57,
   "id": "c1fc92b5",
   "metadata": {},
   "outputs": [
    {
     "data": {
      "text/plain": [
       "461.0"
      ]
     },
     "execution_count": 57,
     "metadata": {},
     "output_type": "execute_result"
    },
    {
     "data": {
      "image/png": "[encoded data removed]",
      "text/plain": [
       "<Figure size 432x288 with 1 Axes>"
      ]
     },
     "metadata": {
      "needs_background": "light"
     },
     "output_type": "display_data"
    }
   ],
   "source": [
    "X = np.array([]); Y = np.array([])\n",
    "f1=a.get_market_orderbook(\"BBG004731354\",500)\n",
    "for i in range(len(f1.payload.bids)):\n",
    "    new_price = round(float(f1.payload.bids[i].price))\n",
    "    if len(X)==0:\n",
    "        X =np.append(X, new_price)\n",
    "        Y = np.append(Y, int(f1.payload.bids[i].quantity))\n",
    "    elif X[len(X)-1]== new_price:\n",
    "        Y[len(Y)-1]+=int(f1.payload.bids[i].quantity)\n",
    "    else:\n",
    "        X = np.append(X, new_price)\n",
    "        Y = np.append(Y, int(f1.payload.bids[i].quantity))\n",
    "for i in range(len(f1.payload.asks)):\n",
    "    new_price = round(float(f1.payload.asks[i].price))\n",
    "    if len(X)==0:\n",
    "        X =np.append(X, new_price)\n",
    "        Y = np.append(Y, int(f1.payload.asks[i].quantity))\n",
    "    elif X[len(X)-1]== new_price:\n",
    "        Y[len(Y)-1]+=int(f1.payload.asks[i].quantity)\n",
    "    else:\n",
    "        X = np.append(X, new_price)\n",
    "        Y = np.append(Y, int(f1.payload.asks[i].quantity))\n",
    "\n",
    "plt.plot(X, Y, \"*b\")\n",
    "X[np.argmax(Y)]"
   ]
  },
  {
   "cell_type": "code",
   "execution_count": 58,
   "id": "99650d24",
   "metadata": {},
   "outputs": [
    {
     "data": {
      "text/plain": [
       "[<matplotlib.lines.Line2D at 0x1892b5e9910>]"
      ]
     },
     "execution_count": 58,
     "metadata": {},
     "output_type": "execute_result"
    },
    {
     "data": {
      "image/png": "[encoded data removed]",
      "text/plain": [
       "<Figure size 432x288 with 1 Axes>"
      ]
     },
     "metadata": {
      "needs_background": "light"
     },
     "output_type": "display_data"
    }
   ],
   "source": [
    "figi_new = a.get_market_search_by_ticker(\"UPRO\").payload.instruments[0].figi\n",
    "X = np.array([]); Y = np.array([])\n",
    "f1=a.get_market_orderbook(figi_new,100)\n",
    "for i in range(0, len(f1.payload.bids)):\n",
    "    X = np.append(X, float(f1.payload.bids[i].price))\n",
    "    X = np.append(X, float(f1.payload.asks[i].price))\n",
    "    Y = np.append(Y, int(f1.payload.bids[i].quantity))\n",
    "    Y = np.append(Y, int(f1.payload.asks[i].quantity))\n",
    "plt.plot(X, (Y), \"*b\")"
   ]
  },
  {
   "cell_type": "markdown",
   "id": "9a09ab47",
   "metadata": {},
   "source": [
    "Заявки с шагом в 5 руб в Соллерсе"
   ]
  },
  {
   "cell_type": "code",
   "execution_count": 59,
   "id": "827c2876",
   "metadata": {},
   "outputs": [
    {
     "data": {
      "text/plain": [
       "188.0"
      ]
     },
     "execution_count": 59,
     "metadata": {},
     "output_type": "execute_result"
    },
    {
     "data": {
      "image/png": "[encoded data removed]",
      "text/plain": [
       "<Figure size 432x288 with 1 Axes>"
      ]
     },
     "metadata": {
      "needs_background": "light"
     },
     "output_type": "display_data"
    }
   ],
   "source": [
    "X = np.array([]); Y = np.array([])\n",
    "figi_new = a.get_market_search_by_ticker(\"UPRO\").payload.instruments[0].figi\n",
    "f1=a.get_market_orderbook(figi_new,500)\n",
    "for i in range(len(f1.payload.bids)):\n",
    "    new_price = round(float(f1.payload.bids[i].price)*100)\n",
    "    if len(X)==0:\n",
    "        X =np.append(X, new_price)\n",
    "        Y = np.append(Y, int(f1.payload.bids[i].quantity))\n",
    "    elif X[len(X)-1]== new_price:\n",
    "        Y[len(Y)-1]+=int(f1.payload.bids[i].quantity)\n",
    "    else:\n",
    "        X = np.append(X, new_price)\n",
    "        Y = np.append(Y, int(f1.payload.bids[i].quantity))\n",
    "for i in range(len(f1.payload.asks)):\n",
    "    new_price = round(float(f1.payload.asks[i].price)*100)\n",
    "    if len(X)==0:\n",
    "        X =np.append(X, new_price)\n",
    "        Y = np.append(Y, int(f1.payload.asks[i].quantity))\n",
    "    elif X[len(X)-1]== new_price:\n",
    "        Y[len(Y)-1]+=int(f1.payload.asks[i].quantity)\n",
    "    else:\n",
    "        X = np.append(X, new_price)\n",
    "        Y = np.append(Y, int(f1.payload.asks[i].quantity))\n",
    "\n",
    "plt.plot(X, Y, \"*b\")\n",
    "X[np.argmax(Y)]"
   ]
  },
  {
   "cell_type": "code",
   "execution_count": 60,
   "id": "17566691",
   "metadata": {},
   "outputs": [
    {
     "name": "stdout",
     "output_type": "stream",
     "text": [
      "241.15 241.18\n"
     ]
    },
    {
     "data": {
      "image/png": "[encoded data removed]",
      "text/plain": [
       "<Figure size 432x288 with 1 Axes>"
      ]
     },
     "metadata": {
      "needs_background": "light"
     },
     "output_type": "display_data"
    }
   ],
   "source": [
    "X = np.array([]); Y = np.array([])\n",
    "figi_new = a.get_market_search_by_ticker(\"SBER\").payload.instruments[0].figi\n",
    "f1=a.get_market_orderbook(figi_new,300)\n",
    "for i in range(len(f1.payload.bids)):\n",
    "    new_price = round(float(f1.payload.bids[i].price))//2*2\n",
    "    if len(X)==0:\n",
    "        X =np.append(X, new_price)\n",
    "        Y = np.append(Y, int(f1.payload.bids[i].quantity))\n",
    "    elif X[len(X)-1]== new_price:\n",
    "        Y[len(Y)-1]+=int(f1.payload.bids[i].quantity)\n",
    "    else:\n",
    "        X = np.append(X, new_price)\n",
    "        Y = np.append(Y, int(f1.payload.bids[i].quantity))\n",
    "for i in range(len(f1.payload.asks)):\n",
    "    new_price = round(float(f1.payload.asks[i].price))//2*2\n",
    "    if len(X)==0:\n",
    "        X =np.append(X, new_price)\n",
    "        Y = np.append(Y, int(f1.payload.asks[i].quantity))\n",
    "    elif X[len(X)-1]== new_price:\n",
    "        Y[len(Y)-1]+=int(f1.payload.asks[i].quantity)\n",
    "    else:\n",
    "        X = np.append(X, new_price)\n",
    "        Y = np.append(Y, int(f1.payload.asks[i].quantity))\n",
    "\n",
    "plt.plot(X, Y, \"*b\")\n",
    "X[np.argmax(Y)]\n",
    "a.get_market_search_by_ticker(\"GAZP\")\n",
    "print(f1.payload.bids[0].price, f1.payload.asks[0].price)"
   ]
  },
  {
   "cell_type": "code",
   "execution_count": 61,
   "id": "0a7ceef8",
   "metadata": {
    "scrolled": true
   },
   "outputs": [
    {
     "name": "stdout",
     "output_type": "stream",
     "text": [
      "241.15\n",
      "241.18\n"
     ]
    }
   ],
   "source": [
    "a.get_market_search_by_ticker(\"SNGS\")\n",
    "print(f1.payload.bids[0].price)\n",
    "print(f1.payload.asks[0].price)"
   ]
  },
  {
   "cell_type": "code",
   "execution_count": 7,
   "id": "1ba09923",
   "metadata": {},
   "outputs": [
    {
     "ename": "IndexError",
     "evalue": "list index out of range",
     "output_type": "error",
     "traceback": [
      "\u001b[1;31m---------------------------------------------------------------------------\u001b[0m",
      "\u001b[1;31mIndexError\u001b[0m                                Traceback (most recent call last)",
      "\u001b[1;32m<ipython-input-7-1f274380872b>\u001b[0m in \u001b[0;36m<module>\u001b[1;34m\u001b[0m\n\u001b[0;32m      1\u001b[0m \u001b[1;32mfor\u001b[0m \u001b[0mi\u001b[0m \u001b[1;32min\u001b[0m \u001b[0mrange\u001b[0m\u001b[1;33m(\u001b[0m\u001b[1;36m30\u001b[0m\u001b[1;33m)\u001b[0m\u001b[1;33m:\u001b[0m\u001b[1;33m\u001b[0m\u001b[1;33m\u001b[0m\u001b[0m\n\u001b[1;32m----> 2\u001b[1;33m     \u001b[0mfigi_new\u001b[0m \u001b[1;33m=\u001b[0m \u001b[0ma\u001b[0m\u001b[1;33m.\u001b[0m\u001b[0mget_market_search_by_ticker\u001b[0m\u001b[1;33m(\u001b[0m\u001b[1;34m\"NGV1\"\u001b[0m\u001b[1;33m)\u001b[0m\u001b[1;33m.\u001b[0m\u001b[0mpayload\u001b[0m\u001b[1;33m.\u001b[0m\u001b[0minstruments\u001b[0m\u001b[1;33m[\u001b[0m\u001b[1;36m0\u001b[0m\u001b[1;33m]\u001b[0m\u001b[1;33m.\u001b[0m\u001b[0mfigi\u001b[0m\u001b[1;33m\u001b[0m\u001b[1;33m\u001b[0m\u001b[0m\n\u001b[0m\u001b[0;32m      3\u001b[0m     \u001b[0mf1\u001b[0m\u001b[1;33m=\u001b[0m\u001b[0ma\u001b[0m\u001b[1;33m.\u001b[0m\u001b[0mget_market_orderbook\u001b[0m\u001b[1;33m(\u001b[0m\u001b[0mfigi_new\u001b[0m\u001b[1;33m,\u001b[0m\u001b[1;36m100\u001b[0m\u001b[1;33m)\u001b[0m\u001b[1;33m\u001b[0m\u001b[1;33m\u001b[0m\u001b[0m\n\u001b[0;32m      4\u001b[0m     \u001b[0mprint\u001b[0m\u001b[1;33m(\u001b[0m\u001b[0mf1\u001b[0m\u001b[1;33m.\u001b[0m\u001b[0mpayload\u001b[0m\u001b[1;33m.\u001b[0m\u001b[0mbids\u001b[0m\u001b[1;33m[\u001b[0m\u001b[1;36m0\u001b[0m\u001b[1;33m]\u001b[0m\u001b[1;33m.\u001b[0m\u001b[0mprice\u001b[0m\u001b[1;33m,\u001b[0m \u001b[0mf1\u001b[0m\u001b[1;33m.\u001b[0m\u001b[0mpayload\u001b[0m\u001b[1;33m.\u001b[0m\u001b[0masks\u001b[0m\u001b[1;33m[\u001b[0m\u001b[1;36m0\u001b[0m\u001b[1;33m]\u001b[0m\u001b[1;33m.\u001b[0m\u001b[0mprice\u001b[0m\u001b[1;33m,\u001b[0m \u001b[0mend\u001b[0m \u001b[1;33m=\u001b[0m \u001b[1;34m'\\r'\u001b[0m\u001b[1;33m)\u001b[0m\u001b[1;33m\u001b[0m\u001b[1;33m\u001b[0m\u001b[0m\n\u001b[0;32m      5\u001b[0m     \u001b[0mtime\u001b[0m\u001b[1;33m.\u001b[0m\u001b[0msleep\u001b[0m\u001b[1;33m(\u001b[0m\u001b[1;36m10\u001b[0m\u001b[1;33m)\u001b[0m\u001b[1;33m\u001b[0m\u001b[1;33m\u001b[0m\u001b[0m\n",
      "\u001b[1;31mIndexError\u001b[0m: list index out of range"
     ]
    }
   ],
   "source": [
    "for i in range(30):\n",
    "    figi_new = a.get_market_search_by_ticker(\"NGV1\").payload.instruments[0].figi\n",
    "    f1=a.get_market_orderbook(figi_new,100)\n",
    "    print(f1.payload.bids[0].price, f1.payload.asks[0].price, end = '\\r')\n",
    "    time.sleep(10)"
   ]
  },
  {
   "cell_type": "code",
   "execution_count": 28,
   "id": "55324e21",
   "metadata": {},
   "outputs": [
    {
     "data": {
      "text/plain": [
       "[<matplotlib.lines.Line2D at 0x1a3439fe130>,\n",
       " <matplotlib.lines.Line2D at 0x1a3439fe160>]"
      ]
     },
     "execution_count": 28,
     "metadata": {},
     "output_type": "execute_result"
    },
    {
     "data": {
      "image/png": "[encoded data removed]",
      "text/plain": [
       "<Figure size 432x288 with 1 Axes>"
      ]
     },
     "metadata": {
      "needs_background": "light"
     },
     "output_type": "display_data"
    }
   ],
   "source": [
    "X1 = np.array([]); Y1 = np.array([])\n",
    "figi_new = a.get_market_search_by_ticker(\"UPRO\").payload.instruments[0].figi\n",
    "f1=a.get_market_orderbook(figi_new,500)\n",
    "for i in range(len(f1.payload.bids)):\n",
    "    new_price = round(float(f1.payload.bids[i].price)*100)\n",
    "    if len(X1)==0:\n",
    "        X1 =np.append(X1, new_price)\n",
    "        Y1 = np.append(Y1, int(f1.payload.bids[i].quantity))\n",
    "    elif X1[len(X1)-1]== new_price:\n",
    "        Y1[len(Y1)-1]+=int(f1.payload.bids[i].quantity)\n",
    "    else:\n",
    "        X1 = np.append(X1, new_price)\n",
    "        Y1 = np.append(Y1, int(f1.payload.bids[i].quantity))\n",
    "X2 = np.array([]); Y2 = np.array([])\n",
    "for i in range(len(f1.payload.asks)):\n",
    "    new_price = round(float(f1.payload.asks[i].price)*100)\n",
    "    if len(X2)==0:\n",
    "        X2 =np.append(X2, new_price)\n",
    "        Y2 = np.append(Y2, int(f1.payload.asks[i].quantity))\n",
    "    elif X2[len(X2)-1]== new_price:\n",
    "        Y2[len(Y2)-1]+=int(f1.payload.asks[i].quantity)\n",
    "    else:\n",
    "        X2 = np.append(X2, new_price)\n",
    "        Y2 = np.append(Y2, int(f1.payload.asks[i].quantity))\n",
    "plt.plot(X1, Y1, \"*b\", X2, Y2, '*r' )"
   ]
  },
  {
   "cell_type": "code",
   "execution_count": 42,
   "id": "1b240c7c",
   "metadata": {},
   "outputs": [
    {
     "data": {
      "text/plain": [
       "[<matplotlib.lines.Line2D at 0x1a3464c2160>,\n",
       " <matplotlib.lines.Line2D at 0x1a3464c2190>]"
      ]
     },
     "execution_count": 42,
     "metadata": {},
     "output_type": "execute_result"
    },
    {
     "data": {
      "image/png": "[encoded data removed]",
      "text/plain": [
       "<Figure size 432x288 with 1 Axes>"
      ]
     },
     "metadata": {
      "needs_background": "light"
     },
     "output_type": "display_data"
    }
   ],
   "source": [
    "X1 = np.array([]); Y1 = np.array([])\n",
    "figi_new = a.get_market_search_by_ticker(\"SVAV\").payload.instruments[0].figi\n",
    "f1=a.get_market_orderbook(figi_new,1000)\n",
    "for i in range(len(f1.payload.bids)):\n",
    "    new_price = round(float(f1.payload.bids[i].price))//5*5\n",
    "    if len(X1)==0:\n",
    "        X1 =np.append(X1, new_price)\n",
    "        Y1 = np.append(Y1, int(f1.payload.bids[i].quantity))\n",
    "    elif X1[len(X1)-1]== new_price:\n",
    "        Y1[len(Y1)-1]+=int(f1.payload.bids[i].quantity)\n",
    "    else:\n",
    "        X1 = np.append(X1, new_price)\n",
    "        Y1 = np.append(Y1, int(f1.payload.bids[i].quantity))\n",
    "X2 = np.array([]); Y2 = np.array([])\n",
    "for i in range(len(f1.payload.asks)):\n",
    "    new_price = round(float(f1.payload.asks[i].price))//5*5\n",
    "    if len(X2)==0:\n",
    "        X2 =np.append(X2, new_price)\n",
    "        Y2 = np.append(Y2, int(f1.payload.asks[i].quantity))\n",
    "    elif X2[len(X2)-1]== new_price:\n",
    "        Y2[len(Y2)-1]+=int(f1.payload.asks[i].quantity)\n",
    "    else:\n",
    "        X2 = np.append(X2, new_price)\n",
    "        Y2 = np.append(Y2, int(f1.payload.asks[i].quantity))\n",
    "plt.plot(X1, Y1, \"*b\", X2, Y2, '*r' )"
   ]
  },
  {
   "cell_type": "code",
   "execution_count": 43,
   "id": "9dd373bc",
   "metadata": {},
   "outputs": [
    {
     "name": "stdout",
     "output_type": "stream",
     "text": [
      "300.0\n",
      "2495.0\n"
     ]
    }
   ],
   "source": [
    "print(X2[np.argmax(Y2)])\n",
    "print(Y2[np.argmax(Y2)])\n"
   ]
  },
  {
   "cell_type": "code",
   "execution_count": 67,
   "id": "249b216e",
   "metadata": {},
   "outputs": [
    {
     "data": {
      "text/plain": [
       "MarketInstrumentListResponse(payload=MarketInstrumentList(instruments=[MarketInstrument(currency=<Currency.rub: 'RUB'>, figi='BBG004730N88', isin='RU0009029540', lot=10, min_price_increment=Decimal('0.01'), name='Сбер Банк', ticker='SBER', type=<InstrumentType.stock: 'Stock'>, min_quantity=None)], total=Decimal('1')), status='Ok', tracking_id='28c078bfa7599db6')"
      ]
     },
     "execution_count": 67,
     "metadata": {},
     "output_type": "execute_result"
    }
   ],
   "source": [
    "a.get_market_search_by_ticker(\"SBER\")"
   ]
  },
  {
   "cell_type": "code",
   "execution_count": 69,
   "id": "a21fc2d4",
   "metadata": {},
   "outputs": [],
   "source": [
    "figi_sber = \"BBG004730N88\""
   ]
  },
  {
   "cell_type": "code",
   "execution_count": 70,
   "id": "0956bba9",
   "metadata": {},
   "outputs": [
    {
     "name": "stdout",
     "output_type": "stream",
     "text": [
      "241.13 241.19\n"
     ]
    },
    {
     "data": {
      "image/png": "[encoded data removed]",
      "text/plain": [
       "<Figure size 432x288 with 1 Axes>"
      ]
     },
     "metadata": {
      "needs_background": "light"
     },
     "output_type": "display_data"
    }
   ],
   "source": [
    "X = np.array([]); Y = np.array([])\n",
    "figi_new = a.get_market_search_by_ticker(\"SBER\").payload.instruments[0].figi\n",
    "f1=a.get_market_orderbook(figi_new,300)\n",
    "for i in range(len(f1.payload.bids)):\n",
    "    new_price = round(float(f1.payload.bids[i].price))\n",
    "    if len(X)==0:\n",
    "        X =np.append(X, new_price)\n",
    "        Y = np.append(Y, int(f1.payload.bids[i].quantity))\n",
    "    elif X[len(X)-1]== new_price:\n",
    "        Y[len(Y)-1]+=int(f1.payload.bids[i].quantity)\n",
    "    else:\n",
    "        X = np.append(X, new_price)\n",
    "        Y = np.append(Y, int(f1.payload.bids[i].quantity))\n",
    "for i in range(len(f1.payload.asks)):\n",
    "    new_price = round(float(f1.payload.asks[i].price))//2*2\n",
    "    if len(X)==0:\n",
    "        X =np.append(X, new_price)\n",
    "        Y = np.append(Y, int(f1.payload.asks[i].quantity))\n",
    "    elif X[len(X)-1]== new_price:\n",
    "        Y[len(Y)-1]+=int(f1.payload.asks[i].quantity)\n",
    "    else:\n",
    "        X = np.append(X, new_price)\n",
    "        Y = np.append(Y, int(f1.payload.asks[i].quantity))\n",
    "\n",
    "plt.plot(X, Y, \"*b\")\n",
    "X[np.argmax(Y)]\n",
    "a.get_market_search_by_ticker(\"GAZP\")\n",
    "print(f1.payload.bids[0].price, f1.payload.asks[0].price)"
   ]
  },
  {
   "cell_type": "code",
   "execution_count": 83,
   "id": "26a03071",
   "metadata": {},
   "outputs": [],
   "source": [
    "figi_new = a.get_market_search_by_ticker(\"VTBR\").payload.instruments[0].figi\n",
    "f1=a.get_market_orderbook(figi_new,500)"
   ]
  },
  {
   "cell_type": "code",
   "execution_count": 84,
   "id": "71905d37",
   "metadata": {},
   "outputs": [
    {
     "data": {
      "text/plain": [
       "50"
      ]
     },
     "execution_count": 84,
     "metadata": {},
     "output_type": "execute_result"
    }
   ],
   "source": [
    "len(f1.payload.bids)"
   ]
  },
  {
   "cell_type": "code",
   "execution_count": null,
   "id": "deeab592",
   "metadata": {},
   "outputs": [],
   "source": []
  }
 ],
 "metadata": {
  "kernelspec": {
   "display_name": "Python 3",
   "language": "python",
   "name": "python3"
  },
  "language_info": {
   "codemirror_mode": {
    "name": "ipython",
    "version": 3
   },
   "file_extension": ".py",
   "mimetype": "text/x-python",
   "name": "python",
   "nbconvert_exporter": "python",
   "pygments_lexer": "ipython3",
   "version": "3.8.8"
  }
 },
 "nbformat": 4,
 "nbformat_minor": 5
}
