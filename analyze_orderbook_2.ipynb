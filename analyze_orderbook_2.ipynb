{
 "cells": [
  {
   "cell_type": "code",
   "execution_count": null,
   "id": "66c7f1fe",
   "metadata": {},
   "outputs": [],
   "source": [
    "import tinkoff.investments as ti\n",
    "import time\n",
    "import datetime\n",
    "import numpy as np\n",
    "import pandas as pd\n",
    "token = \"...\" "
   ]
  },
  {
   "cell_type": "code",
   "execution_count": null,
   "id": "9bcec98f",
   "metadata": {},
   "outputs": [],
   "source": [
    "all_stock = ti.SyncClient(token).get_market_stocks().payload.instruments#все бумаги"
   ]
  },
  {
   "cell_type": "code",
   "execution_count": null,
   "id": "a1eebe07",
   "metadata": {},
   "outputs": [],
   "source": [
    "for i in list_our_stock:\n",
    "    summ_bids = 0; summ_asks = 0\n",
    "    #price_big_bids = 0; price_big_asks = 0;\n",
    "    all_order = ti.SyncClient(token).get_market_orderbook(i.figi,2500)\n",
    "    len_asks = len(all_order.payload.asks); len_bids = len(all_order.payload.bids)\n",
    "    print(f'Кол-во заявок в {i.name}| Buy = {len_bids}, Sell = {len_asks}')\n",
    "    for j1 in range(len_bids):\n",
    "        summ_bids+=all_order.payload.bids[j1].quantity\n",
    "    for j2 in range(len_asks):\n",
    "        summ_asks+=all_order.payload.asks[j2].quantity\n",
    "    print(f\"Суммы заявок в {i.name}| Buy = {summ_bids}, Sell = {summ_asks}\")\n",
    "    print(f\"Цены в {i.name}| min Buy = {all_order.payload.bids[len_bids-1].price}, max Sell = {all_order.payload.asks[len_asks-1].price}\")\n",
    "    time.sleep(1)\n",
    "        "
   ]
  },
  {
   "cell_type": "code",
   "execution_count": null,
   "id": "d4c1a8f8",
   "metadata": {},
   "outputs": [],
   "source": [
    "ti.SyncClient(token).get_market_search_by_ticker('SBER')"
   ]
  },
  {
   "cell_type": "code",
   "execution_count": null,
   "id": "57b57ed6",
   "metadata": {},
   "outputs": [],
   "source": [
    "a = ti.SyncClient(token).get_market_orderbook('BBG004730N88',1000).payload.bids"
   ]
  },
  {
   "cell_type": "code",
   "execution_count": null,
   "id": "87938624",
   "metadata": {},
   "outputs": [],
   "source": [
    "x =[i.price for i in a]\n",
    "y = [i.quantity for i in a]"
   ]
  },
  {
   "cell_type": "code",
   "execution_count": null,
   "id": "dcf1db1e",
   "metadata": {
    "scrolled": true
   },
   "outputs": [],
   "source": [
    "print(pd.DataFrame(y, x))\n",
    "pd.set_option('display.max_rows', None)"
   ]
  },
  {
   "cell_type": "code",
   "execution_count": null,
   "id": "c1299723",
   "metadata": {},
   "outputs": [],
   "source": [
    "ti.SyncClient(token).get_market_search_by_ticker('UPRO')"
   ]
  },
  {
   "cell_type": "code",
   "execution_count": null,
   "id": "2cd6f534",
   "metadata": {},
   "outputs": [],
   "source": [
    "b = ti.SyncClient(token).get_market_orderbook('BBG004S686W0',1000).payload.bids\n",
    "x =[i.price for i in b]\n",
    "y = [i.quantity for i in b]\n",
    "pd.set_option('display.max_rows', None)\n",
    "print(pd.DataFrame(y, x))"
   ]
  },
  {
   "cell_type": "code",
   "execution_count": null,
   "id": "c0236227",
   "metadata": {},
   "outputs": [],
   "source": []
  },
  {
   "cell_type": "code",
   "execution_count": null,
   "id": "2d3d4498",
   "metadata": {},
   "outputs": [],
   "source": [
    "b = ti.SyncClient(token).get_market_orderbook('BBG004S686W0',1000).payload.asks\n",
    "x =[i.price for i in b]\n",
    "y = [i.quantity for i in b]\n",
    "pd.set_option('display.max_rows', None)\n",
    "print(pd.DataFrame(y, x))"
   ]
  },
  {
   "cell_type": "code",
   "execution_count": null,
   "id": "2c043852",
   "metadata": {},
   "outputs": [],
   "source": []
  }
 ],
 "metadata": {
  "kernelspec": {
   "display_name": "Python 3",
   "language": "python",
   "name": "python3"
  },
  "language_info": {
   "codemirror_mode": {
    "name": "ipython",
    "version": 3
   },
   "file_extension": ".py",
   "mimetype": "text/x-python",
   "name": "python",
   "nbconvert_exporter": "python",
   "pygments_lexer": "ipython3",
   "version": "3.8.8"
  }
 },
 "nbformat": 4,
 "nbformat_minor": 5
}
