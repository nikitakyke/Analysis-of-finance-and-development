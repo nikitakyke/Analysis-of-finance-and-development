{
 "cells": [
  {
   "cell_type": "code",
   "execution_count": null,
   "id": "2f253624",
   "metadata": {},
   "outputs": [],
   "source": [
    "import tinvest as ti\n",
    "import datetime as datetime\n",
    "import time\n",
    "import numpy as np\n",
    "token = \"...\" "
   ]
  },
  {
   "cell_type": "code",
   "execution_count": null,
   "id": "569f79ea",
   "metadata": {},
   "outputs": [],
   "source": [
    "all_stock = ti.SyncClient(token).get_market_stocks().payload.instruments\n",
    "all_stock[0]\n",
    "length_stock = len(all_stock)"
   ]
  },
  {
   "cell_type": "code",
   "execution_count": null,
   "id": "3bc14fae",
   "metadata": {},
   "outputs": [],
   "source": [
    "for i in range(length_stock):\n",
    "    print(all_stock[i].name)"
   ]
  },
  {
   "cell_type": "code",
   "execution_count": null,
   "id": "6f814b51",
   "metadata": {},
   "outputs": [],
   "source": [
    "f0 = ti.SyncClient(token).get_market_candles(all_stock[0].figi, datetime.datetime(2021, 9, 20, 4), datetime.datetime.utcnow(),ti.schemas.CandleResolution.min5)"
   ]
  },
  {
   "cell_type": "code",
   "execution_count": null,
   "id": "277f2d19",
   "metadata": {},
   "outputs": [],
   "source": [
    "datetime.datetime.utcnow()"
   ]
  },
  {
   "cell_type": "code",
   "execution_count": null,
   "id": "a70f8be4",
   "metadata": {},
   "outputs": [],
   "source": [
    "datetime.datetime(2021, 9, 20, 4)"
   ]
  },
  {
   "cell_type": "code",
   "execution_count": null,
   "id": "1a501d19",
   "metadata": {},
   "outputs": [],
   "source": [
    "help(ti.SyncClient(token).get_market_candles)"
   ]
  },
  {
   "cell_type": "code",
   "execution_count": null,
   "id": "41c95620",
   "metadata": {},
   "outputs": [],
   "source": [
    "ti.schemas.CandleResolution.min1"
   ]
  },
  {
   "cell_type": "code",
   "execution_count": null,
   "id": "9d9ffbf7",
   "metadata": {},
   "outputs": [],
   "source": [
    "len(f0.payload.candles)"
   ]
  },
  {
   "cell_type": "code",
   "execution_count": null,
   "id": "d0f28b2a",
   "metadata": {},
   "outputs": [],
   "source": [
    "for i in range(410,420):\n",
    "    info_candles = ti.SyncClient(token).get_market_candles(all_stock[i].figi, datetime.datetime(2021, 9, 20, 4), datetime.datetime.utcnow(),ti.schemas.CandleResolution.min5).payload.candles\n",
    "    length_candles = len(info_candles)\n",
    "    if length_candles>=2:\n",
    "        price_begin = info_candles[0].c\n",
    "        price_end = info_candles[length_candles-1].c\n",
    "        percent_change = round((price_end - price_begin)/price_begin*100, 1)\n",
    "        #print(all_stock[i].name, percent_change)\n",
    "        if abs(percent_change)>0:\n",
    "            print(all_stock[i].name, percent_change)\n",
    "    time.sleep(1)"
   ]
  },
  {
   "cell_type": "code",
   "execution_count": null,
   "id": "b77d19ad",
   "metadata": {},
   "outputs": [],
   "source": [
    "ti.SyncClient(token).get_market_candles(all_stock[328].figi, datetime.datetime(2021, 9, 20, 4), datetime.datetime.utcnow(),ti.schemas.CandleResolution.min5).payload.candles"
   ]
  },
  {
   "cell_type": "code",
   "execution_count": null,
   "id": "9df621ea",
   "metadata": {},
   "outputs": [],
   "source": [
    "print(m)"
   ]
  },
  {
   "cell_type": "code",
   "execution_count": null,
   "id": "5fc23ddc",
   "metadata": {},
   "outputs": [],
   "source": [
    "ti.SyncClient(token).get_market_candles(all_stock[1].figi, datetime.datetime(2021, 9, 20, 4), datetime.datetime.utcnow(),ti.schemas.CandleResolution.min5)"
   ]
  },
  {
   "cell_type": "code",
   "execution_count": null,
   "id": "ed4873a7",
   "metadata": {},
   "outputs": [],
   "source": [
    "info_candles.total"
   ]
  },
  {
   "cell_type": "code",
   "execution_count": null,
   "id": "156b5536",
   "metadata": {},
   "outputs": [],
   "source": [
    "ti.SyncClient(token).get_market_candles(all_stock[i].figi, datetime.datetime(2021, 9, 20, 4), datetime.datetime.utcnow(),ti.schemas.CandleResolution.min5)"
   ]
  },
  {
   "cell_type": "code",
   "execution_count": null,
   "id": "175c847a",
   "metadata": {},
   "outputs": [],
   "source": [
    "for i in range(1):\n",
    "    info_candles = ti.SyncClient(token).get_market_candles(all_stock[i].figi, datetime.datetime(2021, 9, 20, 4), datetime.datetime.utcnow(),ti.schemas.CandleResolution.min5).payload.candles\n",
    "    length_candles = len(info_candles)\n",
    "    if length_candles>=2:\n",
    "        price_begin = info_candles[0].c\n",
    "        price_end = info_candles[length_candles-1].c\n",
    "        percent_change = round((price_end - price_begin)/price_begin*100, 1)\n",
    "        #print(all_stock[i].name, percent_change)\n",
    "        if abs(percent_change)>0:\n",
    "            print(all_stock[i].name, percent_change)\n",
    "    time.sleep(1)"
   ]
  },
  {
   "cell_type": "code",
   "execution_count": null,
   "id": "e28ee8a2",
   "metadata": {},
   "outputs": [],
   "source": [
    "[i for i in all_stock if i.name=='Роснефть']"
   ]
  },
  {
   "cell_type": "code",
   "execution_count": null,
   "id": "fbc92452",
   "metadata": {},
   "outputs": [],
   "source": [
    "all_stock[0].name"
   ]
  },
  {
   "cell_type": "code",
   "execution_count": null,
   "id": "6eb3c6b7",
   "metadata": {},
   "outputs": [],
   "source": [
    "[i for i in all_stock if i.currency==\"RUB\"]"
   ]
  },
  {
   "cell_type": "code",
   "execution_count": null,
   "id": "ba47e294",
   "metadata": {},
   "outputs": [],
   "source": [
    "print(all_stock[1].currency)"
   ]
  },
  {
   "cell_type": "code",
   "execution_count": null,
   "id": "4e5c9ac2",
   "metadata": {},
   "outputs": [],
   "source": [
    "x = all_stock[1].currency"
   ]
  },
  {
   "cell_type": "code",
   "execution_count": null,
   "id": "24537d5a",
   "metadata": {},
   "outputs": [],
   "source": [
    "x"
   ]
  },
  {
   "cell_type": "code",
   "execution_count": null,
   "id": "a5355585",
   "metadata": {},
   "outputs": [],
   "source": [
    "str(all_stock[1].currency)"
   ]
  },
  {
   "cell_type": "code",
   "execution_count": null,
   "id": "82c7e4b6",
   "metadata": {},
   "outputs": [],
   "source": [
    "all_stock[1].currency[0]"
   ]
  },
  {
   "cell_type": "code",
   "execution_count": null,
   "id": "6108f29a",
   "metadata": {},
   "outputs": [],
   "source": [
    "all_stock[1].currency==\"USD\""
   ]
  },
  {
   "cell_type": "code",
   "execution_count": null,
   "id": "2e044061",
   "metadata": {},
   "outputs": [],
   "source": [
    "all_rus_stock = [i for i in all_stock if i.currency==\"RUB\"]\n",
    "length_rus_stock = len(all_rus_stock)\n",
    "print(length_rus_stock)"
   ]
  },
  {
   "cell_type": "code",
   "execution_count": null,
   "id": "36ced390",
   "metadata": {},
   "outputs": [],
   "source": [
    "for i in range(length_rus_stock):\n",
    "    info_candles = ti.SyncClient(token).get_market_candles(all_rus_stock[i].figi, datetime.datetime(2021, 9, 20, 4), datetime.datetime.utcnow(),ti.schemas.CandleResolution.min5).payload.candles\n",
    "    length_candles = len(info_candles)\n",
    "    if length_candles>=2:\n",
    "        price_begin = info_candles[0].c\n",
    "        price_end = info_candles[length_candles-1].c\n",
    "        percent_change = round((price_end - price_begin)/price_begin*100, 1)\n",
    "        #print(all_stock[i].name, percent_change)\n",
    "        if abs(percent_change)>5:\n",
    "            print(all_rus_stock[i].name, percent_change)\n",
    "    time.sleep(2.5)"
   ]
  },
  {
   "cell_type": "code",
   "execution_count": null,
   "id": "60d4c01d",
   "metadata": {},
   "outputs": [],
   "source": [
    "some_rus_stock = [i for i in all_stock if i.name in names_rus_companies ]\n",
    "some_rus_stock"
   ]
  },
  {
   "cell_type": "code",
   "execution_count": null,
   "id": "8eb1ce8e",
   "metadata": {},
   "outputs": [],
   "source": [
    "names_rus_companies = np.array(['Роснефть'])"
   ]
  },
  {
   "cell_type": "code",
   "execution_count": null,
   "id": "a276749c",
   "metadata": {},
   "outputs": [],
   "source": [
    "4 in a"
   ]
  },
  {
   "cell_type": "code",
   "execution_count": null,
   "id": "81ddc2a4",
   "metadata": {},
   "outputs": [],
   "source": []
  }
 ],
 "metadata": {
  "kernelspec": {
   "display_name": "Python 3",
   "language": "python",
   "name": "python3"
  },
  "language_info": {
   "codemirror_mode": {
    "name": "ipython",
    "version": 3
   },
   "file_extension": ".py",
   "mimetype": "text/x-python",
   "name": "python",
   "nbconvert_exporter": "python",
   "pygments_lexer": "ipython3",
   "version": "3.8.8"
  }
 },
 "nbformat": 4,
 "nbformat_minor": 5
}
